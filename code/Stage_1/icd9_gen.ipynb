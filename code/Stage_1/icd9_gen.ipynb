{
  "cells": [
    {
      "cell_type": "code",
      "execution_count": null,
      "metadata": {
        "id": "Ka70IrbPuFr7"
      },
      "outputs": [],
      "source": [
        "#@title ICD9 Code Installs\n",
        "%%capture\n",
        "!git clone https://github.com/kshedden/icd9.git\n",
        "!pip install --upgrade --quiet langchain lark chromadb langchain-openai\n",
        "!pip install --upgrade --quiet huggingface_hub langchain_community\n",
        "\n",
        "import os\n",
        "from langchain_openai import OpenAI\n",
        "\n",
        "from icd9 import icd9\n",
        "codes = icd9.icd9Hierarchy"
      ]
    },
    {
      "cell_type": "code",
      "execution_count": null,
      "metadata": {
        "id": "_DY-KY9euiKn"
      },
      "outputs": [],
      "source": [
        "import random\n",
        "def get_code_str(k = 2):\n",
        "  global codes\n",
        "  code_sample = random.choices(codes, k=k)\n",
        "  code_strs = [c['descLong'] for c in code_sample]\n",
        "  return \"; \".join(code_strs)\n",
        "\n",
        "get_code_str(k = 1)"
      ]
    },
    {
      "cell_type": "code",
      "execution_count": null,
      "metadata": {
        "id": "kty8q4fvuk9g"
      },
      "outputs": [],
      "source": [
        "OPENAI_API_KEY = \"<your_openai_key>\"\n",
        "os.environ[\"OPENAI_API_KEY\"] = OPENAI_API_KEY"
      ]
    },
    {
      "cell_type": "code",
      "execution_count": null,
      "metadata": {
        "id": "4TyYdiy_v6Xl"
      },
      "outputs": [],
      "source": [
        "#@title Prompt ChatGPT For Message Prompt\n",
        "from langchain_text_splitters import RecursiveCharacterTextSplitter\n",
        "from langchain.docstore.document import Document\n",
        "from langchain.schema import StrOutputParser\n",
        "from langchain_core.prompts import ChatPromptTemplate\n",
        "from langchain_openai import ChatOpenAI\n",
        "from langchain.prompts.few_shot import FewShotPromptTemplate\n",
        "from langchain.prompts.prompt import PromptTemplate\n",
        "from langchain_community.llms import HuggingFaceEndpoint\n",
        "import langchain\n",
        "\n",
        "import time\n",
        "import re\n",
        "\n",
        "class PromptWriter:\n",
        "  def __init__(self, model_name = \"gpt-3.5-turbo-instruct\"):\n",
        "    langchain.debug = False \n",
        "    self.model = OpenAI(model_name=model_name)\n",
        "\n",
        "    prompt_template = '''Given an ICD9 code for a given patient, write a short description of a message that a patient might send to their doctor which may or may not be related to the code. Here are examples.\n",
        "\n",
        "Example Code: Shoulder joint replacement\n",
        "\n",
        "Example Message Description: Patient heard a snap while trying to lift heavy boxes after shoulder surgery, and is experiencing pain.\n",
        "\n",
        "Example Code: Open wound of external ear, unspecified site, complicated\n",
        "\n",
        "Example Message Description: Patient is inquiring about cleaning strategies for their ear wound.\n",
        "\n",
        "Example Code: Obstetrical air embolism, delivered, with or without mention of antepartum condition\n",
        "\n",
        "Example Message Description: Patient wishes to reschedule an upcoming appointment due to a conflict.\n",
        "\n",
        "Example Code: Hypocalcemia\n",
        "\n",
        "Example Message Description: Patient is vomiting and over-the-counter medications are not helping.\n",
        "\n",
        "Write one single-sentence message description of the following code.\n",
        "\n",
        "Code: {code_str}\n",
        "\n",
        "Message Description:'''\n",
        "\n",
        "    self.prompt_prompt = PromptTemplate(\n",
        "        input_variables=[\"message\"],\n",
        "        template=prompt_template\n",
        "    )\n",
        "\n",
        "    self.prompt_chain = self.prompt_prompt | self.model | StrOutputParser()\n",
        "\n",
        "  def _clean_str(self, response_str):\n",
        "    return response_str.split('.')[0]+'.'\n",
        "\n",
        "\n",
        "  def get_prompt(self, code_str):\n",
        "    while True:\n",
        "      try:\n",
        "        response_str = self.prompt_chain.invoke({'code_str': code_str})\n",
        "        message = self._clean_str(response_str)\n",
        "        break\n",
        "      except Exception as e:\n",
        "        time.sleep(3)\n",
        "    return message"
      ]
    },
    {
      "cell_type": "code",
      "execution_count": null,
      "metadata": {
        "id": "yMfEJ1UZQ4Ao"
      },
      "outputs": [],
      "source": [
        "import pandas as pd\n",
        "from numpy.random import choice\n",
        "\n",
        "def to_section(code):\n",
        "  code = str(code)\n",
        "  if pd.isna(code): return \"None\"\n",
        "  if code[0] == \"I\": return \"None\"\n",
        "  if code[0] == \"V\": return \"V\"\n",
        "  if code[0] == \"E\": return \"E\"\n",
        "  if code[0] == \"T\": return \"T\"\n",
        "  code_num = int(code[0:3])\n",
        "  if 1 <= code_num and code_num <= 139: return \"100\"\n",
        "  elif code_num <= 239: return \"140\"\n",
        "  elif code_num <= 279: return \"240\"\n",
        "  elif code_num <= 289: return \"280\"\n",
        "  elif code_num <= 319: return \"290\"\n",
        "  elif code_num <= 389: return \"320\"\n",
        "  elif code_num <= 459: return \"390\"\n",
        "  elif code_num <= 519: return \"460\"\n",
        "  elif code_num <= 579: return \"520\"\n",
        "  elif code_num <= 629: return \"580\"\n",
        "  elif code_num <= 679: return \"630\"\n",
        "  elif code_num <= 709: return \"680\"\n",
        "  elif code_num <= 739: return \"710\"\n",
        "  elif code_num <= 759: return \"740\"\n",
        "  elif code_num <= 779: return \"760\"\n",
        "  elif code_num <= 799: return \"780\"\n",
        "  elif code_num <= 999: return \"800\"\n",
        "\n",
        "code2sec = {}\n",
        "sec2code = {}\n",
        "\n",
        "for c in codes:\n",
        "  code = c['icd9']\n",
        "  sec = to_section(code)\n",
        "  code2sec[code] = sec\n",
        "  if sec not in sec2code: sec2code[sec] = []\n",
        "  sec2code[sec].append(code)"
      ]
    },
    {
      "cell_type": "code",
      "execution_count": null,
      "metadata": {
        "id": "Ly5SiKnlRKGg"
      },
      "outputs": [],
      "source": [
        "def random_code():\n",
        "  global code2sec, sec2code, codes\n",
        "\n",
        "  start =  [290, 780, 710, 740, 240, 320, 630, 800, 520, 460, 680, 'V', 140, 'T', 280, 580, 390, 100, 'None', 'E', 760]\n",
        "  end =    [319, 799, 739, 759, 279, 389, 679, 999, 579, 519, 709, 'V', 239, 'T', 289, 629, 459, 139, 'None', 'E', 779]\n",
        "  prob =   [.0585, .1237, .1535, .0055, .0622,.1151,.0088,.0289,.0477,.0365,.0590,.0971,.0278,.0463,.0099,.0561,.0456,.0147,.0018,.0010,.0003]\n",
        "  prob_dist = pd.DataFrame({'start':start,'end':end,'prob':prob})\n",
        "\n",
        "  # first pick the region with prob according to prob_dist\n",
        "  sec = -1\n",
        "  while sec not in sec2code:\n",
        "    sec = choice(list(prob_dist.start), 1, p=list(prob_dist.prob))[0]\n",
        "  # pick the code uniformly at random\n",
        "  code = choice(sec2code[sec], 1)[0]\n",
        "  # get the description\n",
        "  for c in codes:\n",
        "    if c['icd9'] == code:\n",
        "      desc = c['descLong']\n",
        "      break # these are only one\n",
        "  return code, desc\n",
        "\n",
        "random_code()"
      ]
    },
    {
      "cell_type": "code",
      "execution_count": null,
      "metadata": {
        "id": "x8TA0UEWTzi-"
      },
      "outputs": [],
      "source": [
        "from tqdm.auto import trange\n",
        "k = 1\n",
        "data = {'icd9_code':[], 'desc':[], 'prompt':[]}\n",
        "\n",
        "pr = PromptWriter()\n",
        "for i in trange(k):\n",
        "  code, desc = random_code()\n",
        "  message = pr.get_prompt(desc)\n",
        "  data['icd9_code'].append(code)\n",
        "  data['desc'].append(desc)\n",
        "  data['prompt'].append(message)\n",
        "\n",
        "df = pd.DataFrame(data)"
      ]
    }
  ],
  "metadata": {
    "colab": {
      "provenance": []
    },
    "kernelspec": {
      "display_name": "Python 3",
      "name": "python3"
    },
    "language_info": {
      "name": "python"
    }
  },
  "nbformat": 4,
  "nbformat_minor": 0
}
