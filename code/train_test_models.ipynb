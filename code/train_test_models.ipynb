{
 "cells": [
  {
   "cell_type": "code",
   "execution_count": null,
   "id": "734ea90a-4ef2-430e-b0d0-67b98dd07655",
   "metadata": {},
   "outputs": [],
   "source": [
    "import sys \n",
    "import os, gc\n",
    "import pandas as pd\n",
    "from pprint import pprint"
   ]
  },
  {
   "cell_type": "code",
   "execution_count": null,
   "id": "f1940191-d61e-4252-aa7f-a6a853d6e4e6",
   "metadata": {},
   "outputs": [],
   "source": [
    "data_root = '<path>' \n",
    "save_root = '<path>'"
   ]
  },
  {
   "cell_type": "code",
   "execution_count": null,
   "id": "5755152c-63bb-4f27-9ab8-f2222fceafed",
   "metadata": {},
   "outputs": [],
   "source": [
    "files = os.listdir(data_root)\n",
    "files = [x for x in files if '.csv' in x]"
   ]
  },
  {
   "cell_type": "code",
   "execution_count": null,
   "id": "d7b2fabd-36aa-4533-bf7d-4f04db6fef22",
   "metadata": {},
   "outputs": [],
   "source": [
    "for dataset_file in files:\n",
    "    \n",
    "        data_path = os.path.join(data_root, dataset_file)\n",
    "        save_path = os.path.join(save_root, dataset_file.replace('.csv', ''))\n",
    "\n",
    "        !python -m fine-tune-nodp-from-scratch \\\n",
    "                --dataset_path \"{data_path}\" \\\n",
    "                --save_model_path \"{save_path}\" \\\n",
    "                --output_dir scratch \\\n",
    "                --model_name \"<path>\"  \\\n",
    "                --sequence_len 256 \\\n",
    "                --per_device_train_batch_size 64 \\\n",
    "                --gradient_accumulation_steps 1 \\\n",
    "                --evaluation_strategy no \\\n",
    "                --eval_steps 45 \\\n",
    "                --log_level info \\\n",
    "                --per_device_eval_batch_size 64 \\\n",
    "                --eval_accumulation_steps 1 \\\n",
    "                --seed 42 \\\n",
    "                --prediction_loss_only \\\n",
    "                --weight_decay 0.01 \\\n",
    "                --remove_unused_columns False \\\n",
    "                --num_train_epochs 10 \\\n",
    "                --logging_steps 5 \\\n",
    "                --max_grad_norm 0 \\\n",
    "                --lr_scheduler_type constant \\\n",
    "                --learning_rate 2e-4 \\\n",
    "                --disable_tqdm False \\\n",
    "                --dataloader_num_workers 1 \\\n",
    "                --label_names labels \\\n",
    "                --local_rank 1 \\\n",
    "                --fp16 False"
   ]
  }
 ],
 "metadata": {
  "kernelspec": {
   "display_name": "Python 3 (ipykernel)",
   "language": "python",
   "name": "python3"
  },
  "language_info": {
   "codemirror_mode": {
    "name": "ipython",
    "version": 3
   },
   "file_extension": ".py",
   "mimetype": "text/x-python",
   "name": "python",
   "nbconvert_exporter": "python",
   "pygments_lexer": "ipython3",
   "version": "3.10.13"
  }
 },
 "nbformat": 4,
 "nbformat_minor": 5
}
