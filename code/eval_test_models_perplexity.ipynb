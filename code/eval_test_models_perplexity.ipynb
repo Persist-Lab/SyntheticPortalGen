{
 "cells": [
  {
   "cell_type": "code",
   "execution_count": null,
   "id": "734ea90a-4ef2-430e-b0d0-67b98dd07655",
   "metadata": {},
   "outputs": [],
   "source": [
    "import sys \n",
    "sys.path.append(\"<path>\")\n",
    "from Perplexity import Evaluation\n",
    "from SGD import SGD\n",
    "import os, gc \n",
    "import pandas as pd\n",
    "from pprint import pprint "
   ]
  },
  {
   "cell_type": "code",
   "execution_count": null,
   "id": "c9f84df9-df0e-42d8-a66c-885c4e54ded1",
   "metadata": {},
   "outputs": [],
   "source": [
    "from transformers import AutoModelForCausalLM, AutoTokenizer \n",
    "def eval_experiment(model_path, gold_data_path):\n",
    "    '''\n",
    "    Get mean perplexity across all samples\n",
    "    '''\n",
    "    gold_data = pd.read_csv(gold_data_path)\n",
    "    model = AutoModelForCausalLM.from_pretrained(model_path).eval().cuda()\n",
    "    tokenizer = AutoTokenizer.from_pretrained(model_path)\n",
    "    evaler = Evaluation(model, tokenizer)\n",
    "    ppl = evaler.perplexity(gold_data['patient_message'].tolist())\n",
    "    return ppl\n"
   ]
  },
  {
   "cell_type": "code",
   "execution_count": null,
   "id": "c262f6d0-aa37-40d0-96be-bb198f7c30a3",
   "metadata": {},
   "outputs": [],
   "source": [
    "gold_data_path = \"<path>\"\n",
    "model_root = \"<path>\""
   ]
  },
  {
   "cell_type": "code",
   "execution_count": null,
   "id": "717abff2-e6f5-434e-be2f-4ef6c68e7e43",
   "metadata": {},
   "outputs": [],
   "source": [
    "PPL_TABLE = {}\n",
    "for model_path in os.listdir(model_root):\n",
    "    PPL_TABLE[model_path] = eval_experiment(os.path.join(model_root, model_path), gold_data_path)"
   ]
  }
 ],
 "metadata": {
  "kernelspec": {
   "display_name": "Python 3 (ipykernel)",
   "language": "python",
   "name": "python3"
  },
  "language_info": {
   "codemirror_mode": {
    "name": "ipython",
    "version": 3
   },
   "file_extension": ".py",
   "mimetype": "text/x-python",
   "name": "python",
   "nbconvert_exporter": "python",
   "pygments_lexer": "ipython3",
   "version": "3.10.13"
  }
 },
 "nbformat": 4,
 "nbformat_minor": 5
}
