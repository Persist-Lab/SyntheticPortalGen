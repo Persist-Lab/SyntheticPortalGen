{
 "cells": [
  {
   "cell_type": "code",
   "execution_count": null,
   "id": "734ea90a-4ef2-430e-b0d0-67b98dd07655",
   "metadata": {},
   "outputs": [],
   "source": [
    "import sys \n",
    "sys.path.append(\"<path>\")\n",
    "from Perplexity import Evaluation\n",
    "from SGD import SGD\n",
    "import os, gc \n",
    "import pandas as pd\n",
    "from sentence_transformers import SentenceTransformer\n",
    "from tte_depth import StatDepth"
   ]
  },
  {
   "cell_type": "code",
   "execution_count": null,
   "id": "c9f84df9-df0e-42d8-a66c-885c4e54ded1",
   "metadata": {},
   "outputs": [],
   "source": [
    "gold_corpus = pd.read_csv(\"<path>\").patient_message.tolist()\n",
    "model = SentenceTransformer('<path>/all-MiniLM-L6-v2/').cuda()\n",
    "F = model.encode(gold_corpus)\n",
    "def evaluate(gen_corpus, model = model, F = F):\n",
    "    '''\n",
    "    Get Q Value compared to gold corpus. \n",
    "    '''\n",
    "    G = model.encode(gen_corpus)\n",
    "    d = StatDepth()\n",
    "    depth_scores_F, depth_scores_G, Q, W, p = d.depth_rank_test(F, G)\n",
    "\n",
    "    return Q  "
   ]
  },
  {
   "cell_type": "code",
   "execution_count": null,
   "id": "93fa8077-8c80-4750-bb54-ac6130a600da",
   "metadata": {},
   "outputs": [],
   "source": [
    "results = {}\n",
    "\n",
    "test_corpora_path = \"<path>\"\n",
    "for corpus in os.listdir(test_corpora_path): \n",
    "    gen_corpus = pd.read_csv(os.path.join(test_corpora_path, corpus)).patient_message.tolist()\n",
    "    results[corpus] = evaluate(gen_corpus)"
   ]
  }
 ],
 "metadata": {
  "kernelspec": {
   "display_name": "Python 3 (ipykernel)",
   "language": "python",
   "name": "python3"
  },
  "language_info": {
   "codemirror_mode": {
    "name": "ipython",
    "version": 3
   },
   "file_extension": ".py",
   "mimetype": "text/x-python",
   "name": "python",
   "nbconvert_exporter": "python",
   "pygments_lexer": "ipython3",
   "version": "3.10.13"
  }
 },
 "nbformat": 4,
 "nbformat_minor": 5
}
