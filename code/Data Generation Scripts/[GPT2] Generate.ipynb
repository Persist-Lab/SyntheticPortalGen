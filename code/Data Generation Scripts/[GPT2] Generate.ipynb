{
 "cells": [
  {
   "cell_type": "code",
   "execution_count": null,
   "id": "58822ffa-7742-43ef-96c7-3d92b64ec036",
   "metadata": {},
   "outputs": [],
   "source": [
    "import pandas as pd \n",
    "from transformers import pipeline \n",
    "from tqdm.auto import tqdm\n",
    "from pprint import pprint"
   ]
  },
  {
   "cell_type": "code",
   "execution_count": null,
   "id": "b6fad7ee-5d8a-4b98-8975-21567e42b867",
   "metadata": {},
   "outputs": [],
   "source": [
    "from transformers import AutoTokenizer\n",
    "def run_gpt_generation(\n",
    "    model_path,\n",
    "    save_path, \n",
    "    num_run = 1000\n",
    "):\n",
    "\n",
    "    ### Load Pre-Trained Model ### \n",
    "    tokenizer = AutoTokenizer.from_pretrained(model_path)\n",
    "    pipe = pipeline('text-generation', model = model_path, tokenizer = model_path, device=0, pad_token_id = tokenizer.eos_token_id)\n",
    "    \n",
    "    outputs = []\n",
    "    \n",
    "    prompts = ['Patient Message:' for _ in range(num_run+50)] # add a few extra generations incase any are empty. Rarely happens. \n",
    "    out = pipe(prompts, batch_size = 32, temperature=0.75, max_new_tokens = 256)\n",
    "\n",
    "    ### Post Process Outputs ###\n",
    "    out = [x[0]['generated_text'].replace('Patient Message:','').strip() for x in out] # Post process outputs to not include the prompt. \n",
    "    out = [x for x in out if len(x) > 1][:num_run] # Remove any empty outputs. Take the first num_run remaining. \n",
    "\n",
    "    if len(out) != num_run:\n",
    "        raise \n",
    "    \n",
    "    for sample in out:\n",
    "        outputs.append({'patient_message':sample})\n",
    "\n",
    "    df = pd.DataFrame(outputs)\n",
    "    df.to_csv(save_path)\n",
    "    return df \n",
    "    "
   ]
  }
 ],
 "metadata": {
  "kernelspec": {
   "display_name": "Python 3 (ipykernel)",
   "language": "python",
   "name": "python3"
  },
  "language_info": {
   "codemirror_mode": {
    "name": "ipython",
    "version": 3
   },
   "file_extension": ".py",
   "mimetype": "text/x-python",
   "name": "python",
   "nbconvert_exporter": "python",
   "pygments_lexer": "ipython3",
   "version": "3.10.13"
  }
 },
 "nbformat": 4,
 "nbformat_minor": 5
}
