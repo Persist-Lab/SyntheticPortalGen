{
 "cells": [
  {
   "cell_type": "code",
   "execution_count": null,
   "id": "2eab66e5-c5c0-44af-a6fd-541468a099e7",
   "metadata": {},
   "outputs": [],
   "source": [
    "save_model_path = \"<path>\"\n",
    "gold_train_path = \"<path>\""
   ]
  },
  {
   "cell_type": "code",
   "execution_count": null,
   "id": "93fa60fb-4c43-41e3-880a-11c01941e57d",
   "metadata": {},
   "outputs": [],
   "source": [
    "!python -m fine-tune-nodp \\\n",
    "--output_dir scratch \\\n",
    "--dataset_path \"{gold_train_path}\"\\\n",
    "--save_model_path \"{save_model_path}\"\\\n",
    "--model_name \"<path>\" \\\n",
    "--sequence_len 256 \\\n",
    "--per_device_train_batch_size 64 \\\n",
    "--gradient_accumulation_steps 1 \\\n",
    "--evaluation_strategy no \\\n",
    "--eval_steps 45 \\\n",
    "--log_level info \\\n",
    "--per_device_eval_batch_size 64 \\\n",
    "--eval_accumulation_steps 1 \\\n",
    "--seed 42 \\\n",
    "--prediction_loss_only \\\n",
    "--weight_decay 0.01 \\\n",
    "--remove_unused_columns False \\\n",
    "--num_train_epochs 3 \\\n",
    "--logging_steps 5 \\\n",
    "--max_grad_norm 0 \\\n",
    "--lr_scheduler_type constant \\\n",
    "--learning_rate 2e-4 \\\n",
    "--disable_tqdm False \\\n",
    "--dataloader_num_workers 1 \\\n",
    "--label_names labels \\\n",
    "--local_rank 1 \\\n",
    "--fp16 False"
   ]
  },
  {
   "cell_type": "code",
   "execution_count": null,
   "id": "1ad64715-48c4-4844-b4b2-522930a0c06e",
   "metadata": {},
   "outputs": [],
   "source": []
  },
  {
   "cell_type": "code",
   "execution_count": null,
   "id": "83a6c102-9f5d-434d-9129-fea87582c083",
   "metadata": {},
   "outputs": [],
   "source": []
  }
 ],
 "metadata": {
  "kernelspec": {
   "display_name": "Python 3 (ipykernel)",
   "language": "python",
   "name": "python3"
  },
  "language_info": {
   "codemirror_mode": {
    "name": "ipython",
    "version": 3
   },
   "file_extension": ".py",
   "mimetype": "text/x-python",
   "name": "python",
   "nbconvert_exporter": "python",
   "pygments_lexer": "ipython3",
   "version": "3.10.13"
  }
 },
 "nbformat": 4,
 "nbformat_minor": 5
}
