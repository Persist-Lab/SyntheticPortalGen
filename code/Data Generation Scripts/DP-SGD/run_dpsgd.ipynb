{
 "cells": [
  {
   "cell_type": "code",
   "execution_count": null,
   "id": "93fa60fb-4c43-41e3-880a-11c01941e57d",
   "metadata": {},
   "outputs": [],
   "source": [
    "save_model_path = \"<path>\"\n",
    "gold_train_path = \"<path>\"\n",
    "\n",
    "!python -m fine-tune-dp \\\n",
    "--output_dir scratch \\\n",
    "--dataset_path \"{gold_train_path}\"\\\n",
    "--save_model_path \"{save_model_path}\"\\\n",
    "--model_name \"<path>\" \\\n",
    "--sequence_len 256 \\\n",
    "--per_device_train_batch_size 32 \\\n",
    "--gradient_accumulation_steps 2 \\\n",
    "--evaluation_strategy no \\\n",
    "--eval_steps 45 \\\n",
    "--log_level info \\\n",
    "--per_device_eval_batch_size 64 \\\n",
    "--eval_accumulation_steps 1 \\\n",
    "--seed 42 \\\n",
    "--target_epsilon 1 \\\n",
    "--per_sample_max_grad_norm 1.0 \\\n",
    "--prediction_loss_only \\\n",
    "--weight_decay 0.01 \\\n",
    "--remove_unused_columns False \\\n",
    "--num_train_epochs 3 \\\n",
    "--logging_steps 5 \\\n",
    "--max_grad_norm 0 \\\n",
    "--lr_scheduler_type constant \\\n",
    "--learning_rate 1e-4 \\\n",
    "--disable_tqdm False \\\n",
    "--dataloader_num_workers 1 \\\n",
    "--label_names labels \\\n",
    "--local_rank 1 \\\n",
    "--fp16 False"
   ]
  }
 ],
 "metadata": {
  "kernelspec": {
   "display_name": "Python 3 (ipykernel)",
   "language": "python",
   "name": "python3"
  },
  "language_info": {
   "codemirror_mode": {
    "name": "ipython",
    "version": 3
   },
   "file_extension": ".py",
   "mimetype": "text/x-python",
   "name": "python",
   "nbconvert_exporter": "python",
   "pygments_lexer": "ipython3",
   "version": "3.10.13"
  }
 },
 "nbformat": 4,
 "nbformat_minor": 5
}
